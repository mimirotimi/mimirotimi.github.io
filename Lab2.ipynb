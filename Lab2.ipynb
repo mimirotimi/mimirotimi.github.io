{
 "cells": [
  {
   "cell_type": "code",
   "execution_count": 2,
   "id": "fa9ef890-5034-4bb3-8325-75a22546ebd3",
   "metadata": {},
   "outputs": [],
   "source": [
    "%load_ext autoreload\n",
    "%autoreload 2\n",
    "\n",
    "from ble import get_ble_controller\n",
    "from base_ble import LOG\n",
    "from cmd_types import CMD\n",
    "import time\n",
    "import numpy as np\n",
    "\n",
    "LOG.propagate = False"
   ]
  },
  {
   "cell_type": "code",
   "execution_count": 3,
   "id": "221684cf-daf2-452b-8385-e761809d2a13",
   "metadata": {},
   "outputs": [
    {
     "name": "stdout",
     "output_type": "stream",
     "text": [
      "2023-02-13 21:01:11,466 |\u001b[32m INFO     \u001b[0m|: Looking for Artemis Nano Peripheral Device: c0:83:a1:6a:90:3c\n",
      "2023-02-13 21:01:14,932 |\u001b[32m INFO     \u001b[0m|: Connected to c0:83:a1:6a:90:3c\n"
     ]
    },
    {
     "name": "stderr",
     "output_type": "stream",
     "text": [
      "/Users/ro/Library/CloudStorage/OneDrive-CornellUniversity/Fast_Robotics/Lab2/ble_robot-1.1/ble_python/base_ble.py:87: FutureWarning: This method will be removed future version, pass the callback to the BleakClient constructor instead.\n",
      "  self.client.set_disconnected_callback(self.disconnect_handler)\n"
     ]
    },
    {
     "name": "stdout",
     "output_type": "stream",
     "text": [
      "2023-02-13 21:03:00,877 |\u001b[32m INFO     \u001b[0m|: Disconnected from 0AEB4791-7286-1C81-01C9-F18F3A1406E7\n"
     ]
    }
   ],
   "source": [
    "# Get ArtemisBLEController object\n",
    "ble = get_ble_controller()\n",
    "\n",
    "# Connect to the Artemis Device\n",
    "ble.connect()"
   ]
  },
  {
   "cell_type": "code",
   "execution_count": 3,
   "id": "0287b19b-b439-4699-9fea-6ab0be75086b",
   "metadata": {},
   "outputs": [
    {
     "name": "stdout",
     "output_type": "stream",
     "text": [
      "HiHello\n"
     ]
    }
   ],
   "source": [
    "#Task 1\n",
    "ble.send_command(CMD.ECHO, \"HiHello\")\n",
    "#store message from robot\n",
    "s = ble.receive_string(ble.uuid['RX_STRING'])\n",
    "#print message from robot\n",
    "print(s)"
   ]
  },
  {
   "cell_type": "code",
   "execution_count": 46,
   "id": "595422c5-e62a-42f5-bd50-5997914244af",
   "metadata": {},
   "outputs": [],
   "source": [
    "#Task 2\n",
    "ble.send_command(CMD.GET_TIME_MILLIS, \"\")"
   ]
  },
  {
   "cell_type": "code",
   "execution_count": 47,
   "id": "3312a1f8-0975-476d-b93a-c3ace71de036",
   "metadata": {},
   "outputs": [
    {
     "name": "stdout",
     "output_type": "stream",
     "text": [
      "84297\n"
     ]
    }
   ],
   "source": [
    "currentMillis = ble.receive_string(ble.uuid['RX_STRING'])\n",
    "print(currentMillis)"
   ]
  },
  {
   "cell_type": "code",
   "execution_count": 6,
   "id": "f2ad743b-4261-452b-a91c-8829e8e4db86",
   "metadata": {},
   "outputs": [],
   "source": [
    "#Task 3\n",
    "\n",
    "notify_float = 0.0 #declare variable\n",
    "\n",
    "#define notification handler, takes in two values\n",
    "def notification_handler(uuid, byte_arr): \n",
    "    notify_float = ble.bytearray_to_float(byte_arr)\n",
    "    print(notify_float)\n",
    "    "
   ]
  },
  {
   "cell_type": "code",
   "execution_count": 7,
   "id": "ccf3ac11-003b-429d-ba91-25078d7370b2",
   "metadata": {},
   "outputs": [
    {
     "name": "stdout",
     "output_type": "stream",
     "text": [
      "1739.0\n",
      "1739.5\n",
      "1740.0\n",
      "1740.5\n",
      "1741.0\n",
      "1741.5\n",
      "1742.0\n",
      "1742.5\n",
      "1743.0\n",
      "1743.5\n",
      "1744.0\n",
      "1744.5\n"
     ]
    }
   ],
   "source": [
    "#call notification handler\n",
    "ble.start_notify(ble.uuid['RX_FLOAT'], notification_handler)"
   ]
  },
  {
   "cell_type": "code",
   "execution_count": 8,
   "id": "a633dd32-9709-476d-949b-0193ec3e3371",
   "metadata": {},
   "outputs": [
    {
     "name": "stdout",
     "output_type": "stream",
     "text": [
      "1745.0\n",
      "2023-02-08 13:54:10,408 |\u001b[32m INFO     \u001b[0m|: Disconnected from 0AEB4791-7286-1C81-01C9-F18F3A1406E7\n"
     ]
    }
   ],
   "source": [
    "#stop notification handler\n",
    "ble.stop_notify(ble.uuid['RX_FLOAT'])"
   ]
  },
  {
   "cell_type": "code",
   "execution_count": 7,
   "id": "c838c214-5d01-42be-ae94-455cf96496db",
   "metadata": {},
   "outputs": [],
   "source": [
    "#Task 4\n",
    "notify_temp = 0.0 #declare variable\n",
    "\n",
    "#define temperature notification handler, takes in two values\n",
    "def get_temp_handler(uuid, byte_arr): \n",
    "    notify_temp = ble.bytearray_to_string(byte_arr)\n",
    "    print(notify_temp)\n",
    "    "
   ]
  },
  {
   "cell_type": "code",
   "execution_count": 5,
   "id": "dbf511cb-3a03-4172-8892-120c63947917",
   "metadata": {},
   "outputs": [
    {
     "name": "stdout",
     "output_type": "stream",
     "text": [
      "2023-02-13 21:09:25,015 |\u001b[32m INFO     \u001b[0m|: Looking for Artemis Nano Peripheral Device: c0:83:a1:6a:90:3c\n",
      "2023-02-13 21:09:27,669 |\u001b[32m INFO     \u001b[0m|: Connected to c0:83:a1:6a:90:3c\n"
     ]
    }
   ],
   "source": [
    "# Get ArtemisBLEController object\n",
    "ble = get_ble_controller()\n",
    "# Connect to the Artemis Device\n",
    "ble.connect()\n",
    "\n",
    "#ble.start_notify(ble.uuid['RX_STRING'], get_temp_handler)\n",
    "#y = ble.receive_string(ble.uuid['RX_STRING'])\n",
    "#print message from robot\n",
    "#print(y)"
   ]
  },
  {
   "cell_type": "code",
   "execution_count": 28,
   "id": "8a41f792-8e66-4261-b0ca-4b930b6a8787",
   "metadata": {},
   "outputs": [
    {
     "name": "stdout",
     "output_type": "stream",
     "text": [
      "T:46782|C:23.391\n",
      "T:51783|C:23.391\n",
      "T:56784|C:22.804\n",
      "T:61785|C:23.977\n",
      "T:66786|C:24.563\n"
     ]
    }
   ],
   "source": [
    "#Task 4\n",
    "ble.start_notify(ble.uuid['RX_STRING'], get_temp_handler)\n",
    "ble.send_command(CMD.GET_TEMP_5s, \"\")\n",
    "#time.sleep(5)"
   ]
  },
  {
   "cell_type": "code",
   "execution_count": 29,
   "id": "02447dbd-0dae-4bfc-a5ad-ad7692c1c7a5",
   "metadata": {},
   "outputs": [
    {
     "name": "stdout",
     "output_type": "stream",
     "text": [
      "2023-02-09 12:54:54,975 |\u001b[32m INFO     \u001b[0m|: Disconnected from 0AEB4791-7286-1C81-01C9-F18F3A1406E7\n"
     ]
    }
   ],
   "source": [
    "ble.stop_notify(ble.uuid['RX_STRING'])"
   ]
  },
  {
   "cell_type": "code",
   "execution_count": 8,
   "id": "ca7b43ed-804a-4e71-857b-5fc105d72053",
   "metadata": {},
   "outputs": [
    {
     "name": "stdout",
     "output_type": "stream",
     "text": [
      "T:314110|C:25.736\n",
      "T:314212|C:25.150\n",
      "T:314313|C:25.736\n",
      "T:314414|C:25.150\n",
      "T:314515|C:25.736\n",
      "T:314616|C:25.150\n",
      "T:314717|C:25.736\n",
      "T:314818|C:25.150\n",
      "T:314919|C:25.150\n",
      "T:315020|C:25.150\n",
      "T:315121|C:25.736\n",
      "T:315222|C:26.323\n",
      "T:315323|C:25.150\n",
      "T:315424|C:25.736\n",
      "T:315525|C:25.150\n",
      "T:315626|C:25.736\n",
      "T:315727|C:25.150\n",
      "T:315828|C:25.736\n",
      "T:315929|C:27.495\n",
      "T:316030|C:25.150\n",
      "T:316131|C:25.736\n",
      "T:316232|C:25.736\n",
      "T:316333|C:25.150\n",
      "T:316434|C:25.150\n",
      "T:316535|C:25.150\n",
      "T:316636|C:25.150\n",
      "T:316737|C:25.150\n",
      "T:316838|C:25.150\n",
      "T:316939|C:25.736\n",
      "T:317040|C:24.563\n",
      "T:317141|C:25.736\n",
      "T:317242|C:25.150\n",
      "T:317343|C:25.150\n",
      "T:317444|C:25.150\n",
      "T:317545|C:25.150\n",
      "T:317646|C:25.736\n",
      "T:317747|C:25.736\n",
      "T:317848|C:25.736\n",
      "T:317949|C:25.736\n",
      "T:318050|C:25.150\n",
      "T:318151|C:25.736\n",
      "T:318252|C:25.736\n",
      "T:318353|C:25.150\n",
      "T:318454|C:25.150\n",
      "T:318555|C:26.323\n",
      "T:318656|C:25.150\n",
      "T:318757|C:25.736\n",
      "T:318858|C:25.150\n",
      "T:318959|C:25.736\n",
      "T:319060|C:25.736\n"
     ]
    }
   ],
   "source": [
    "#Task 5\n",
    "ble.start_notify(ble.uuid['RX_STRING'], get_temp_handler)\n",
    "ble.send_command(CMD.GET_TEMP_5s_RAPID, \"\")\n",
    "#time.sleep(5)"
   ]
  },
  {
   "cell_type": "code",
   "execution_count": 9,
   "id": "a3c4ba9e-1a79-4a6d-8519-728ab2ff0617",
   "metadata": {},
   "outputs": [
    {
     "name": "stdout",
     "output_type": "stream",
     "text": [
      "2023-02-13 21:18:36,758 |\u001b[32m INFO     \u001b[0m|: Disconnected from 0AEB4791-7286-1C81-01C9-F18F3A1406E7\n"
     ]
    }
   ],
   "source": [
    "ble.stop_notify(ble.uuid['RX_STRING'])"
   ]
  },
  {
   "cell_type": "code",
   "execution_count": null,
   "id": "6379fa9d-a771-4f61-9594-215daf301cb7",
   "metadata": {},
   "outputs": [],
   "source": []
  }
 ],
 "metadata": {
  "kernelspec": {
   "display_name": "Python 3 (ipykernel)",
   "language": "python",
   "name": "python3"
  },
  "language_info": {
   "codemirror_mode": {
    "name": "ipython",
    "version": 3
   },
   "file_extension": ".py",
   "mimetype": "text/x-python",
   "name": "python",
   "nbconvert_exporter": "python",
   "pygments_lexer": "ipython3",
   "version": "3.9.12"
  }
 },
 "nbformat": 4,
 "nbformat_minor": 5
}
